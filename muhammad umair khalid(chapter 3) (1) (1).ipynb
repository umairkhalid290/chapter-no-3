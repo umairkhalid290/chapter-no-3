{
 "cells": [
  {
   "cell_type": "markdown",
   "metadata": {},
   "source": [
    "# Muhammad Umair Khalid(17b-005-se)"
   ]
  },
  {
   "cell_type": "markdown",
   "metadata": {},
   "source": [
    "# chapter 03"
   ]
  },
  {
   "cell_type": "code",
   "execution_count": 1,
   "metadata": {},
   "outputs": [
    {
     "name": "stdout",
     "output_type": "stream",
     "text": [
      "hello python developers...\n",
      "welcome to the world of python!\n"
     ]
    }
   ],
   "source": [
    "#example 1\n",
    "line1 = 'hello python developers...'\n",
    "line2 = 'welcome to the world of python!'\n",
    "print(line1)\n",
    "print(line2)\n"
   ]
  },
  {
   "cell_type": "code",
   "execution_count": 2,
   "metadata": {},
   "outputs": [
    {
     "name": "stdout",
     "output_type": "stream",
     "text": [
      "enter your first name:umair\n",
      "enter your last name:khalid\n",
      "hello umair khalid...\n",
      "welcome to the world of python!\n"
     ]
    }
   ],
   "source": [
    "#example 2\n",
    "first = input('enter your first name:')\n",
    "last = input('enter your last name:')\n",
    "line1 ='hello '+first+' '+last+ '...'\n",
    "print(line1)\n",
    "print('welcome to the world of python!')"
   ]
  },
  {
   "cell_type": "code",
   "execution_count": 3,
   "metadata": {},
   "outputs": [
    {
     "name": "stdout",
     "output_type": "stream",
     "text": [
      "3 7 4\n"
     ]
    }
   ],
   "source": [
    "#example 3\n",
    "a=eval('3')\n",
    "b=eval('3 + 4')\n",
    "c=eval('len([3, 4, 5, 7])')\n",
    "print (a,b,c)"
   ]
  },
  {
   "cell_type": "code",
   "execution_count": 4,
   "metadata": {},
   "outputs": [
    {
     "name": "stdout",
     "output_type": "stream",
     "text": [
      "enter x: 5\n",
      "True\n",
      "False\n"
     ]
    }
   ],
   "source": [
    "#example 4\n",
    "x=eval(input('enter x: '))\n",
    "print(x==5)\n",
    "print(x=='5')\n"
   ]
  },
  {
   "cell_type": "code",
   "execution_count": 5,
   "metadata": {},
   "outputs": [
    {
     "name": "stdout",
     "output_type": "stream",
     "text": [
      "enter the current temperature: 199\n",
      "it is hot!\n",
      "be sure to drink liquid\n"
     ]
    }
   ],
   "source": [
    "#example 5\n",
    "temp = eval(input('enter the current temperature: '))\n",
    "\n",
    "if temp>86:\n",
    "    print(\"it is hot!\")\n",
    "    print(\"be sure to drink liquid\")"
   ]
  },
  {
   "cell_type": "code",
   "execution_count": 6,
   "metadata": {},
   "outputs": [
    {
     "name": "stdout",
     "output_type": "stream",
     "text": [
      "enter the current temperature: 100\n",
      "it is hot!\n",
      "be sure to drink liquid\n",
      "good bye\n"
     ]
    }
   ],
   "source": [
    "#example 6\n",
    "temp = eval(input('enter the current temperature: '))\n",
    "\n",
    "if temp>86:\n",
    "    print(\"it is hot!\")\n",
    "    print(\"be sure to drink liquid\")\n",
    "print(\"good bye\")\n"
   ]
  },
  {
   "cell_type": "code",
   "execution_count": 7,
   "metadata": {},
   "outputs": [
    {
     "name": "stdout",
     "output_type": "stream",
     "text": [
      "Enter the current temperature: 100\n",
      "It is hot!\n",
      "Be sure to drink liquids.\n",
      "Goodbye.\n"
     ]
    }
   ],
   "source": [
    "#example 7\n",
    "temp = eval(input('Enter the current temperature: '))\n",
    "if temp > 86:\n",
    "    print('It is hot!') \n",
    "    print('Be sure to drink liquids.') \n",
    "else: \n",
    "    print('It is not hot.') \n",
    "    print('Bring a jacket.') \n",
    "print('Goodbye.')"
   ]
  },
  {
   "cell_type": "code",
   "execution_count": 8,
   "metadata": {},
   "outputs": [
    {
     "name": "stdout",
     "output_type": "stream",
     "text": [
      "enter a word: hello\n",
      "the word spelled out: \n",
      "h\n",
      "e\n",
      "l\n",
      "l\n",
      "o\n"
     ]
    }
   ],
   "source": [
    "#example 8\n",
    "name = input(\"enter a word: \")\n",
    "print(\"the word spelled out: \")\n",
    "for char in name:\n",
    "    print(char)"
   ]
  },
  {
   "cell_type": "code",
   "execution_count": 9,
   "metadata": {},
   "outputs": [
    {
     "name": "stdout",
     "output_type": "stream",
     "text": [
      "Enter a phrase: what are u doing\n",
      "a\n",
      "a\n",
      "e\n",
      "u\n",
      "o\n",
      "i\n"
     ]
    }
   ],
   "source": [
    "#example 9\n",
    "phrase = input('Enter a phrase: ') \n",
    "for c in phrase:\n",
    "     if c in 'aeoiuAEIOU': \n",
    "             print(c) "
   ]
  },
  {
   "cell_type": "code",
   "execution_count": 10,
   "metadata": {},
   "outputs": [
    {
     "name": "stdout",
     "output_type": "stream",
     "text": [
      "enter square or cube: cube\n"
     ]
    }
   ],
   "source": [
    "#example 10\n",
    "s = input(\"enter square or cube: \")\n",
    "\n",
    "if s == 'square':\n",
    "    def f(x):\n",
    "        return x*x\n",
    "else:\n",
    "    def f(x):\n",
    "        return x*x*x\n",
    "    \n",
    "    \n"
   ]
  },
  {
   "cell_type": "markdown",
   "metadata": {},
   "source": [
    "# practice problems"
   ]
  },
  {
   "cell_type": "code",
   "execution_count": 11,
   "metadata": {},
   "outputs": [
    {
     "name": "stdout",
     "output_type": "stream",
     "text": [
      "enter the temperature in degree fahrenheit: 100\n",
      "the temperature in degree celsius is 37.77777777777778\n"
     ]
    }
   ],
   "source": [
    "#PROBLEM  3.1\n",
    "#An input() statement is used to request a temperature.\n",
    "#The value entered by the user is treated as a string. \n",
    "#One way to convert the string value to a number \n",
    "#is with the eval() function, which evaluates the \n",
    "#string as an expression. An arithmetic expression \n",
    "#is used for the conversion from degrees Fahrenheit to\n",
    "#degrees Celsius, and the result is then printed.\n",
    "\n",
    "fahr = eval(input('enter the temperature in degree fahrenheit: '))\n",
    "cels = (fahr - 32) * 5 / 9\n",
    "print(\"the temperature in degree celsius is\", cels)\n",
    "\n"
   ]
  },
  {
   "cell_type": "code",
   "execution_count": 12,
   "metadata": {},
   "outputs": [
    {
     "name": "stdout",
     "output_type": "stream",
     "text": [
      "enter name: umair khalid\n",
      "enter age: 65\n",
      "You can get your pension benefits!\n",
      "umair khalid\n"
     ]
    }
   ],
   "source": [
    "#PROBLEM  3.2\n",
    "#The if statement in the interactive shell is\n",
    "#shown without the result of the execution.\n",
    "\n",
    "name = input(\"enter name: \")\n",
    "age = eval(input(\"enter age: \"))\n",
    "if (age>62): \n",
    "    print('You can get your pension benefits!')\n",
    "print(name)"
   ]
  },
  {
   "cell_type": "code",
   "execution_count": 13,
   "metadata": {},
   "outputs": [
    {
     "name": "stdout",
     "output_type": "stream",
     "text": [
      "enter the year: 1888\n",
      "Could be a leap year.\n"
     ]
    }
   ],
   "source": [
    "#PROBLEM  3.3\n",
    "#The if statement in the interactive shell is shown\n",
    "#without the result of the execution\n",
    "\n",
    "year = eval(input(\"enter the year: \"))\n",
    "#ticket = eval(input(\"enter the ticket\"))\n",
    "if year % 4 == 0: \n",
    "    print('Could be a leap year.') \n",
    "else: \n",
    "    print('Definitely not a leap year.') "
   ]
  },
  {
   "cell_type": "code",
   "execution_count": 14,
   "metadata": {},
   "outputs": [
    {
     "name": "stdout",
     "output_type": "stream",
     "text": [
      "Login: umair\n",
      "You are in!\n",
      "Done.\n"
     ]
    }
   ],
   "source": [
    "#PROBLEM  3.4\n",
    "#List users is deﬁned ﬁrst.\n",
    "#The id is then requested using function input().\n",
    "#The condition id in users is used in an if statement\n",
    "#to determine the appropriate message: \n",
    "\n",
    "users = ['ali', 'usman', 'umair', 'saif'] \n",
    "id = input('Login: ') \n",
    "if id in users: \n",
    "    print('You are in!') \n",
    "else: \n",
    "    print('User unknown.') \n",
    "print('Done.')    "
   ]
  },
  {
   "cell_type": "code",
   "execution_count": 15,
   "metadata": {},
   "outputs": [
    {
     "name": "stdout",
     "output_type": "stream",
     "text": [
      "umer\n"
     ]
    }
   ],
   "source": [
    "#PROBLEM  3.5\n",
    "#We use a for loop to iterate through the words in the list.\n",
    "#For each word, we check whether it has length 4;if so,we print it.\n",
    "\n",
    "wordList = ['ali','umair','umer'] \n",
    "for word in wordList: \n",
    "    if len(word) == 4: \n",
    "        print(word)\n",
    "        \n",
    "        \n",
    "        "
   ]
  },
  {
   "cell_type": "code",
   "execution_count": 16,
   "metadata": {},
   "outputs": [
    {
     "name": "stdout",
     "output_type": "stream",
     "text": [
      "0\n",
      "1\n",
      "2\n",
      "3\n",
      "4\n",
      "5\n",
      "6\n",
      "7\n",
      "8\n",
      "9\n",
      "0\n",
      "1\n"
     ]
    }
   ],
   "source": [
    "#PROBLEM  3.6\n",
    "#The for loops are:\n",
    "\n",
    "for i in range(10):\n",
    "    print(i)\n",
    "for i in range(2): \n",
    "    print(i)"
   ]
  },
  {
   "cell_type": "code",
   "execution_count": 17,
   "metadata": {},
   "outputs": [
    {
     "name": "stdout",
     "output_type": "stream",
     "text": [
      "3\n",
      "4\n",
      "5\n",
      "6\n",
      "7\n",
      "8\n",
      "9\n",
      "10\n",
      "11\n",
      "12\n",
      "0\n",
      "2\n",
      "4\n",
      "6\n",
      "8\n",
      "0\n",
      "3\n",
      "6\n",
      "9\n",
      "12\n",
      "15\n",
      "18\n",
      "21\n",
      "3\n",
      "8\n"
     ]
    }
   ],
   "source": [
    "#PROBLEM  3.7\n",
    "#We omit the complete for loop:\n",
    "\n",
    "for i in range(3, 13):\n",
    "    print(i)\n",
    "for i in range(0, 10, 2): \n",
    "    print(i)\n",
    "for i in range(0, 24, 3):\n",
    "    print(i)\n",
    "for i in range(3, 12 ,5): \n",
    "    print(i)    "
   ]
  },
  {
   "cell_type": "code",
   "execution_count": 3,
   "metadata": {},
   "outputs": [
    {
     "name": "stdout",
     "output_type": "stream",
     "text": [
      "the perimeter of a circle is: 25.132741228718345 cm\n"
     ]
    }
   ],
   "source": [
    "#PROBLEM  3.8\n",
    "# The perimeter of acircle of radius r is 2πr.\n",
    "#The math function needs to be imported so that \n",
    "#the value math.pi can be obtained:\n",
    "\n",
    "\n",
    "import math \n",
    "def perimeter(radius): \n",
    "    return(2 * math.pi * radius) \n",
    "print(\"the perimeter of a circle is:\",perimeter(4),'cm')"
   ]
  },
  {
   "cell_type": "code",
   "execution_count": 2,
   "metadata": {},
   "outputs": [
    {
     "name": "stdout",
     "output_type": "stream",
     "text": [
      "average of x an y is: 4.0\n"
     ]
    }
   ],
   "source": [
    "#PROBLEM  3.9\n",
    "#The function average() takes two inputs\n",
    "\n",
    "def average(x, y): \n",
    "    return (x + y) / 2\n",
    "print(\"average of x an y is:\",average(4,4))"
   ]
  },
  {
   "cell_type": "code",
   "execution_count": 1,
   "metadata": {},
   "outputs": [
    {
     "name": "stdout",
     "output_type": "stream",
     "text": [
      "the including vowel in a string is:  True\n"
     ]
    }
   ],
   "source": [
    "#PROBLEM  3.10\n",
    "#We need to use a for loop to check whether or not each \n",
    "#character of the input string is a vowel\n",
    "\n",
    "def noVowel(s): \n",
    "    s = \"who are u\"\n",
    "    for c in s: \n",
    "        if c in 'aeiouAEIOU': \n",
    "            return False \n",
    "        else:\n",
    "            return True\n",
    "print(\"the including vowel in a string is: \",noVowel('box'))\n",
    "    "
   ]
  },
  {
   "cell_type": "markdown",
   "metadata": {},
   "source": [
    "# EXERCISE\n"
   ]
  },
  {
   "cell_type": "code",
   "execution_count": 1,
   "metadata": {},
   "outputs": [
    {
     "name": "stdout",
     "output_type": "stream",
     "text": [
      "enter your value: 4\n",
      "enter your value: 5\n",
      "wordhello\n"
     ]
    },
    {
     "ename": "NameError",
     "evalue": "name 'hello' is not defined",
     "output_type": "error",
     "traceback": [
      "\u001b[1;31m---------------------------------------------------------------------------\u001b[0m",
      "\u001b[1;31mNameError\u001b[0m                                 Traceback (most recent call last)",
      "\u001b[1;32m<ipython-input-1-f52876ede4fe>\u001b[0m in \u001b[0;36m<module>\u001b[1;34m\u001b[0m\n\u001b[0;32m     11\u001b[0m \u001b[1;31m#PART(B)\u001b[0m\u001b[1;33m\u001b[0m\u001b[1;33m\u001b[0m\u001b[1;33m\u001b[0m\u001b[0m\n\u001b[0;32m     12\u001b[0m \u001b[1;31m#(b) 'hello'\u001b[0m\u001b[1;33m\u001b[0m\u001b[1;33m\u001b[0m\u001b[1;33m\u001b[0m\u001b[0m\n\u001b[1;32m---> 13\u001b[1;33m \u001b[0ma\u001b[0m \u001b[1;33m=\u001b[0m \u001b[0meval\u001b[0m\u001b[1;33m(\u001b[0m\u001b[0minput\u001b[0m\u001b[1;33m(\u001b[0m\u001b[1;34m\"word\"\u001b[0m\u001b[1;33m)\u001b[0m\u001b[1;33m)\u001b[0m\u001b[1;33m\u001b[0m\u001b[1;33m\u001b[0m\u001b[0m\n\u001b[0m\u001b[0;32m     14\u001b[0m \u001b[0mprint\u001b[0m\u001b[1;33m(\u001b[0m\u001b[0ma\u001b[0m\u001b[1;33m)\u001b[0m\u001b[1;33m\u001b[0m\u001b[1;33m\u001b[0m\u001b[0m\n\u001b[0;32m     15\u001b[0m \u001b[1;33m\u001b[0m\u001b[0m\n",
      "\u001b[1;32m<string>\u001b[0m in \u001b[0;36m<module>\u001b[1;34m\u001b[0m\n",
      "\u001b[1;31mNameError\u001b[0m: name 'hello' is not defined"
     ]
    }
   ],
   "source": [
    "#EXERCISE  3.17\n",
    "#Use the eval() function to evaluate these\n",
    "#strings as Python expressions:\n",
    "\n",
    "#PART(A)\n",
    "#(a) '2 * 3 + 1' \n",
    "\n",
    "a = eval(input(\"enter your value: \"))\n",
    "b = eval(input(\"enter your value: \"))\n",
    "c = a*b+1\n",
    "#PART(B)\n",
    "#(b) 'hello'\n",
    "a = eval(input(\"word\"))\n",
    "print(a)\n",
    "\n"
   ]
  },
  {
   "cell_type": "code",
   "execution_count": 1,
   "metadata": {},
   "outputs": [
    {
     "name": "stdout",
     "output_type": "stream",
     "text": [
      "OKAY\n",
      "c is not less than b\n",
      "The sum of a+b is not equal to 0\n",
      "OKAY\n"
     ]
    }
   ],
   "source": [
    "#EXERCISE  3.18\n",
    "\n",
    "\n",
    "a = 3\n",
    "b = 4\n",
    "c = 5\n",
    "#a is less the b\n",
    "if a<b:\n",
    "     print(\"OKAY\")\n",
    "else:\n",
    "     print(\"a is not less than b\")\n",
    "#c is less than b\n",
    "if c<b:\n",
    "     print(\"OKAY\")\n",
    "else:\n",
    "      print(\"c is not less than b\")\n",
    "#the sum of a+b is equal to c\n",
    "if a+b==c:\n",
    "     print(\"OKAY\")\n",
    "else:\n",
    "    print(\"The sum of a+b is not equal to 0\")\n",
    "#the sum of squares a and b is equal to c squared\n",
    "if (a**2)+(b**2)==c**2:\n",
    "     print(\"OKAY\")\n",
    "else:\n",
    "     print(\"the sum of (a**2)+(b**2) is not equal to c**2\")      "
   ]
  },
  {
   "cell_type": "code",
   "execution_count": 2,
   "metadata": {},
   "outputs": [
    {
     "name": "stdout",
     "output_type": "stream",
     "text": [
      " NOT OKAY\n",
      "c is not less than b\n",
      "The sum of a+b is not equal to 0\n",
      " NOT OKAY\n"
     ]
    }
   ],
   "source": [
    "#EXERCISE  3.19\n",
    "\n",
    "a = 3\n",
    "b = 4\n",
    "c = 5\n",
    "#a is less the b\n",
    "if a<b:\n",
    "     print(\" NOT OKAY\")\n",
    "else:\n",
    "     print(\"a is not less than b\")\n",
    "#c is less than b\n",
    "if c<b:\n",
    "     print(\" NOT OKAY\")\n",
    "else:\n",
    "      print(\"c is not less than b\")\n",
    "#the sum of a+b is equal to c\n",
    "if a+b==c:\n",
    "     print(\" NOT OKAY\")\n",
    "else:\n",
    "    print(\"The sum of a+b is not equal to 0\")\n",
    "#the sum of squares a and b is equal to c squared\n",
    "if (a**2)+(b**2)==c**2:\n",
    "     print(\" NOT OKAY\")\n",
    "else:\n",
    "     print(\"the sum of (a**2)+(b**2) is not equal to c**2\")      "
   ]
  },
  {
   "cell_type": "code",
   "execution_count": 3,
   "metadata": {},
   "outputs": [
    {
     "name": "stdout",
     "output_type": "stream",
     "text": [
      "Jan\n",
      "Feb\n",
      "Mar\n"
     ]
    }
   ],
   "source": [
    "#EXERCISE  3.20\n",
    "\n",
    "\n",
    "lst=['January', 'February','March']\n",
    "\n",
    "for string in lst:\n",
    "\n",
    "     print(string[:3])"
   ]
  },
  {
   "cell_type": "code",
   "execution_count": 16,
   "metadata": {},
   "outputs": [
    {
     "name": "stdout",
     "output_type": "stream",
     "text": [
      "Even numbers in the list:  [10, 4, 66]\n"
     ]
    }
   ],
   "source": [
    "#EXERCISE  3.21\n",
    "\n",
    "list1 = [10, 21, 4, 45, 66, 93] \n",
    "  \n",
    "# using list comprehension \n",
    "even_nos = [num for num in list1 if num % 2 == 0] \n",
    "  \n",
    "print(\"Even numbers in the list: \", even_nos)\n"
   ]
  },
  {
   "cell_type": "code",
   "execution_count": 5,
   "metadata": {},
   "outputs": [
    {
     "name": "stdout",
     "output_type": "stream",
     "text": [
      "4\n",
      "8\n"
     ]
    }
   ],
   "source": [
    "#EXERCISE  3.22\n",
    "\n",
    "lst=[2,3,4,5,6,7,8,9]\n",
    "for num in lst:\n",
    "    if (num * num) % 8 == 0:\n",
    "        print(num)"
   ]
  },
  {
   "cell_type": "code",
   "execution_count": 6,
   "metadata": {},
   "outputs": [
    {
     "name": "stdout",
     "output_type": "stream",
     "text": [
      "0\n",
      "3\n",
      "4\n",
      "5\n",
      "6\n",
      "0\n",
      "0\n",
      "1\n",
      "2\n",
      "5\n",
      "6\n",
      "7\n",
      "8\n",
      "9\n",
      "10\n",
      "11\n",
      "12\n",
      "13\n",
      "14\n",
      "15\n",
      "16\n",
      "17\n",
      "18\n",
      "19\n"
     ]
    }
   ],
   "source": [
    "#EXERCISE  3.23\n",
    "\n",
    "\n",
    "for i in range(0,1):\n",
    "    print(i)\n",
    "for i in range(0):\n",
    "    print(i)\n",
    "for i in range(3,7):\n",
    "    print(i)\n",
    "for i in range(1):\n",
    "    print(i)\n",
    "for i in range(0,3):\n",
    "    print(i)\n",
    "for i in range(5,20):\n",
    "    print(i)"
   ]
  },
  {
   "cell_type": "code",
   "execution_count": 8,
   "metadata": {},
   "outputs": [
    {
     "name": "stdout",
     "output_type": "stream",
     "text": [
      "Enter list of wordsumair,fatima,rumaisha\n",
      "umair\n",
      "fatima\n",
      "rumaisha\n"
     ]
    }
   ],
   "source": [
    "#EXERCISE  3.24\n",
    "\n",
    "data=input(\"Enter list of words\")\n",
    "a =data.split(\",\")\n",
    "for x in a:\n",
    "     if \"secret\" not in x:\n",
    "             print(x)"
   ]
  },
  {
   "cell_type": "code",
   "execution_count": 15,
   "metadata": {},
   "outputs": [
    {
     "name": "stdout",
     "output_type": "stream",
     "text": [
      "Enter a list of Students: umair,ali,saif\n"
     ]
    }
   ],
   "source": [
    "#EXERCISE  3.25\n",
    "\n",
    "\n",
    "phrase = input('Enter a list of Students: ')\n",
    "lst= ['Ali', 'Umair', 'Saif', 'Danish', 'Muneeb']\n",
    "\n",
    "for c in phrase:\n",
    "    if c in 'ABCDEFGHIJKLM':\n",
    "        print(c)"
   ]
  },
  {
   "cell_type": "code",
   "execution_count": 11,
   "metadata": {},
   "outputs": [
    {
     "name": "stdout",
     "output_type": "stream",
     "text": [
      "Enter a lst : 3,5,7,9\n",
      "The first list of element is:  3\n",
      "The last list of element is:  9\n"
     ]
    }
   ],
   "source": [
    "#EXERCISE  3.26\n",
    "\n",
    "lst=(input(\"Enter a lst : \"))\n",
    "a=lst.split(\" \")\n",
    "print(\"The first list of element is: \", lst[0])\n",
    "print(\"The last list of element is: \", lst[-1])"
   ]
  },
  {
   "cell_type": "code",
   "execution_count": 11,
   "metadata": {},
   "outputs": [
    {
     "name": "stdout",
     "output_type": "stream",
     "text": [
      "enter the positive interger: 3\n",
      "four multiples of num\n"
     ]
    }
   ],
   "source": [
    "#EXERCISE  3.27\n",
    "\n",
    "num = input(\"enter the positive interger: \")\n",
    "print('four multiples of num')"
   ]
  },
  {
   "cell_type": "code",
   "execution_count": 4,
   "metadata": {},
   "outputs": [
    {
     "name": "stdout",
     "output_type": "stream",
     "text": [
      "The divisors of 3 are: \n",
      "1\n",
      "3\n"
     ]
    }
   ],
   "source": [
    "#EXERCISE  3.28\n",
    "\n",
    "def printDivisors(n) : \n",
    "    i = 1\n",
    "    while i <= n : \n",
    "        if (n % i==0) : \n",
    "            print (i), \n",
    "        i = i + 1\n",
    "          \n",
    "\n",
    "print (\"The divisors of 3 are: \")\n",
    "printDivisors(3)"
   ]
  },
  {
   "cell_type": "code",
   "execution_count": 3,
   "metadata": {},
   "outputs": [
    {
     "name": "stdout",
     "output_type": "stream",
     "text": [
      "The divisors of 100 are: \n",
      "1\n",
      "2\n",
      "4\n",
      "5\n",
      "10\n",
      "20\n",
      "25\n",
      "50\n",
      "100\n"
     ]
    }
   ],
   "source": [
    "#EXERCISE  3.29\n",
    "\n",
    "\n",
    "def printDivisors(n) : \n",
    "    i = 1\n",
    "    while i <= n : \n",
    "        if (n % i==0) : \n",
    "            print (i), \n",
    "        i = i + 1\n",
    "          \n",
    "\n",
    "print (\"The divisors of 100 are: \")\n",
    "printDivisors(100)"
   ]
  },
  {
   "cell_type": "code",
   "execution_count": 16,
   "metadata": {},
   "outputs": [
    {
     "name": "stdout",
     "output_type": "stream",
     "text": [
      "enetr the first number: 2\n",
      "enter the second number: 4\n",
      "enter the third number: 6\n",
      "enter the forth number: 8\n"
     ]
    }
   ],
   "source": [
    "#EXERCISE  3.30\n",
    "\n",
    "n1 = float(input(\"enetr the first number: \"))\n",
    "n2 = int(input(\"enter the second number: \"))\n",
    "n3 = float(input(\"enter the third number: \"))\n",
    "n4 = int(input(\"enter the forth number: \"))\n",
    "n=(n1+n2+n3)/3\n",
    "if n==n4:\n",
    "     print(\"OKAY\")"
   ]
  },
  {
   "cell_type": "code",
   "execution_count": 18,
   "metadata": {},
   "outputs": [
    {
     "name": "stdout",
     "output_type": "stream",
     "text": [
      "Enter n: 1234\n",
      "1\n",
      "2\n",
      "3\n",
      "4\n"
     ]
    }
   ],
   "source": [
    "#EXERCISE  3.32\n",
    "\n",
    "n= int(input(\"Enter n: \"))\n",
    "for n in range(1,5):\n",
    "     print(n)"
   ]
  },
  {
   "cell_type": "code",
   "execution_count": 20,
   "metadata": {},
   "outputs": [
    {
     "name": "stdout",
     "output_type": "stream",
     "text": [
      "enter the word: HEYY\n"
     ]
    }
   ],
   "source": [
    "#EXERCISE  3.33\n",
    "\n",
    "word = input('enter the word: ')\n",
    "reverse = word[:-1]\n",
    "if word == reverse:\n",
    "    print(\"okay\")"
   ]
  },
  {
   "cell_type": "code",
   "execution_count": 21,
   "metadata": {},
   "outputs": [
    {
     "name": "stdout",
     "output_type": "stream",
     "text": [
      "Enter hourly wage: 20\n",
      "Enter hours: 5\n",
      "100.0\n"
     ]
    }
   ],
   "source": [
    "#EXERCISE  3.34\n",
    "\n",
    "wage= float(input(\"Enter hourly wage: \"))\n",
    "hours= float(input(\"Enter hours: \"))\n",
    "def pay(hourly_wage, hours):\n",
    "    if (hours>=40):\n",
    "        overtime = hours-40\n",
    "        emp_pay= (hours*wage)+(overtime*hourly_wage*0.5)\n",
    "    else:\n",
    "        emp_pay=(hours*wage)\n",
    "    return emp_pay\n",
    "emp_pay = pay(wage, hours)\n",
    "print(emp_pay)\n"
   ]
  },
  {
   "cell_type": "code",
   "execution_count": null,
   "metadata": {},
   "outputs": [],
   "source": []
  }
 ],
 "metadata": {
  "kernelspec": {
   "display_name": "Python 3",
   "language": "python",
   "name": "python3"
  }
 },
 "nbformat": 4,
 "nbformat_minor": 2
}
